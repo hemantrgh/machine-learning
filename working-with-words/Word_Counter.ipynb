{
 "cells": [
  {
   "cell_type": "code",
   "execution_count": 1,
   "id": "1ea83976",
   "metadata": {},
   "outputs": [],
   "source": [
    "import nltk\n",
    "from textblob import Word, TextBlob\n",
    "from nltk import FreqDist\n",
    "import matplotlib.pyplot as plt"
   ]
  },
  {
   "cell_type": "code",
   "execution_count": 40,
   "id": "35e9a065",
   "metadata": {},
   "outputs": [],
   "source": [
    "def count_words(input_text):\n",
    "    txt_blb = TextBlob(input_text)\n",
    "    print('Statistics of your data: ')\n",
    "    print('-'*100)\n",
    "    print('No. of words : {}'.format(len(txt_blb.words)))\n",
    "    print('No. of sentences : {}'.format(len(txt_blb.sentences)))\n",
    "    print('Language of text : {}'.format(txt_blb.detect_language()))"
   ]
  },
  {
   "cell_type": "code",
   "execution_count": 3,
   "id": "a10e64e5",
   "metadata": {},
   "outputs": [],
   "source": [
    "def plot_words(self, input_text):\n",
    "    frequencies = FreqDist(nltk.word_tokenize(input_text))\n",
    "    fig = plt.figure(figsize=(20, 6))\n",
    "    frequencies.plot()"
   ]
  },
  {
   "cell_type": "code",
   "execution_count": 36,
   "id": "b0b12dbe",
   "metadata": {},
   "outputs": [],
   "source": [
    "def convert_to_upper(input_text):\n",
    "    txt_blob = TextBlob(input_text)\n",
    "    print(f'Your text : {txt_blob.upper()}')"
   ]
  },
  {
   "cell_type": "code",
   "execution_count": 5,
   "id": "08c27de0",
   "metadata": {},
   "outputs": [],
   "source": [
    "def convert_to_lower(input_text):\n",
    "    txt_blob = TextBlob(input_text)\n",
    "    print(f'Your text : {txt_blob.lower()})"
   ]
  },
  {
   "cell_type": "code",
   "execution_count": 53,
   "id": "0b49424b",
   "metadata": {},
   "outputs": [],
   "source": [
    "def search_in_text(input_text):\n",
    "    query = input('Enter the text to search: ')\n",
    "    txt_blob = TextBlob(input_text)\n",
    "    count = txt_blob.words.count(query, case_sensitive=True)\n",
    "    if count > 0:\n",
    "        print(f\"'{query}' appears {count} times in your text\")\n",
    "    else:\n",
    "        print(f\"'{query}' not found\")"
   ]
  },
  {
   "cell_type": "code",
   "execution_count": 55,
   "id": "1337cc5d",
   "metadata": {},
   "outputs": [],
   "source": [
    "def correct_spelling(input_text):\n",
    "    txt_blob = TextBlob(input_text)\n",
    "    print(f'Correct spelling of {input_text} is: {txt_blob.correct()}')"
   ]
  },
  {
   "cell_type": "code",
   "execution_count": 60,
   "id": "c176f330",
   "metadata": {},
   "outputs": [],
   "source": [
    "def translate(input_text):\n",
    "    txt_blob = TextBlob(input_text)\n",
    "    choice = int(input('''Select language for conversion: \n",
    "                    1. English\n",
    "                    2. Hindi\n",
    "                    3. Marathi\n",
    "                    4. French\n",
    "                    5. Arabic : '''))\n",
    "    if choice == 1:\n",
    "        print(f\"Your text in 'English' : {txt_blob.translate(to='en')}\" )\n",
    "    elif choice == 2:\n",
    "        print(f\"Your text in 'Hindi' : {txt_blob.translate(to='hi')}\" )\n",
    "    elif choice == 3:\n",
    "        print(f\"Your text in 'Marathi' : {txt_blob.translate(to='mr')}\" )\n",
    "    elif choice == 4:\n",
    "        print(f\"Your text in 'French' : {txt_blob.translate(to='fr')}\" )\n",
    "    elif choice == 5:\n",
    "        print(f\"Your text in 'Arabic' : {txt_blob.translate(to='ar')}\" )\n",
    "    else:\n",
    "        default()"
   ]
  },
  {
   "cell_type": "code",
   "execution_count": 13,
   "id": "57a856ca",
   "metadata": {},
   "outputs": [],
   "source": [
    "def exit():\n",
    "    print('Exit')"
   ]
  },
  {
   "cell_type": "code",
   "execution_count": 22,
   "id": "f54eb9fd",
   "metadata": {},
   "outputs": [],
   "source": [
    "def default():\n",
    "    print('Not found')"
   ]
  },
  {
   "cell_type": "code",
   "execution_count": 64,
   "id": "a8790a47",
   "metadata": {},
   "outputs": [],
   "source": [
    "def call_function(choice, input_text):\n",
    "    if choice == 1:\n",
    "        convert_to_upper(input_text)\n",
    "    elif choice == 2:\n",
    "        convert_to_lower(input_text)\n",
    "    elif choice == 3:\n",
    "        search_in_text(input_text)\n",
    "    elif choice == 4:\n",
    "        correct_spelling(input_text)\n",
    "    elif choice == 5:\n",
    "        translate(input_text)\n",
    "    elif choice == 6:\n",
    "        count_words(input_text)\n",
    "    elif choice == 7:\n",
    "        plot_words(input_text)\n",
    "    elif choice == 8:\n",
    "        exit()\n",
    "    else:\n",
    "        default()"
   ]
  },
  {
   "cell_type": "code",
   "execution_count": 65,
   "id": "23a17370",
   "metadata": {},
   "outputs": [
    {
     "name": "stdout",
     "output_type": "stream",
     "text": [
      "Enter your text: Good Morning\n",
      "Enter your choice: \n",
      "                  1. Convert to UPPER CASE\n",
      "                  2. Convert to lower case\n",
      "                  3. Search in text\n",
      "                  4. Correct spelling\n",
      "                  5. Translate to other language\n",
      "                  6. Show words summary\n",
      "                  7. Plot words\n",
      "                  8: Exit : 5\n",
      "Select language for conversion: \n",
      "                    1. English\n",
      "                    2. Hindi\n",
      "                    3. Marathi\n",
      "                    4. French\n",
      "                    5. Arabic3\n",
      "Your text in 'Marathi' : शुभ प्रभात\n"
     ]
    }
   ],
   "source": [
    "input_text = input('Enter your text: ')\n",
    "choice = int (input('''Enter your choice: \n",
    "                  1. Convert to UPPER CASE\n",
    "                  2. Convert to lower case\n",
    "                  3. Search in text\n",
    "                  4. Correct spelling\n",
    "                  5. Translate to other language\n",
    "                  6. Show words summary\n",
    "                  7. Plot words\n",
    "                  8: Exit : '''))\n",
    "call_function(choice, input_text)"
   ]
  }
 ],
 "metadata": {
  "kernelspec": {
   "display_name": "Python 3",
   "language": "python",
   "name": "python3"
  },
  "language_info": {
   "codemirror_mode": {
    "name": "ipython",
    "version": 3
   },
   "file_extension": ".py",
   "mimetype": "text/x-python",
   "name": "python",
   "nbconvert_exporter": "python",
   "pygments_lexer": "ipython3",
   "version": "3.8.8"
  }
 },
 "nbformat": 4,
 "nbformat_minor": 5
}
