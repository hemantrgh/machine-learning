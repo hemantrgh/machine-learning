{
 "cells": [
  {
   "cell_type": "code",
   "execution_count": 1,
   "id": "1ea83976",
   "metadata": {},
   "outputs": [],
   "source": [
    "import nltk\n",
    "from textblob import Word, TextBlob\n",
    "from nltk import FreqDist\n",
    "import matplotlib.pyplot as plt"
   ]
  },
  {
   "cell_type": "code",
   "execution_count": 2,
   "id": "35e9a065",
   "metadata": {},
   "outputs": [],
   "source": [
    "def count_words(input_text):\n",
    "    txt_blb = TextBlob(input_text)\n",
    "    print('Statistics of your data: ')\n",
    "    print('-'*100)\n",
    "    print('No. of words : {}'.format(len(txt_blb.words)))\n",
    "    print('No. of sentences : {}'.format(len(txt_blb.sentences)))\n",
    "    print('Language of text : {}'.format(txt_blb.detect_language))"
   ]
  },
  {
   "cell_type": "code",
   "execution_count": 3,
   "id": "a10e64e5",
   "metadata": {},
   "outputs": [],
   "source": [
    "def plot_words(input_text):\n",
    "    frequencies = FreqDist(nltk.word_tokenize(input_text))\n",
    "    fig = plt.figure(figsize=(20, 6))\n",
    "    frequencies.plot()"
   ]
  },
  {
   "cell_type": "code",
   "execution_count": 4,
   "id": "e3747c46",
   "metadata": {},
   "outputs": [],
   "source": [
    "def convert_to_upper(input_text):\n",
    "    print('Convert to upper')"
   ]
  },
  {
   "cell_type": "code",
   "execution_count": 5,
   "id": "97228ac7",
   "metadata": {},
   "outputs": [],
   "source": [
    "def convert_to_lower(input_text):\n",
    "    print('Convert to lower')"
   ]
  },
  {
   "cell_type": "code",
   "execution_count": 6,
   "id": "6599f367",
   "metadata": {},
   "outputs": [],
   "source": [
    "def search_in_text(input_text, query):\n",
    "    print('Search in text')"
   ]
  },
  {
   "cell_type": "code",
   "execution_count": 7,
   "id": "9ce480f2",
   "metadata": {},
   "outputs": [],
   "source": [
    "def correct_spelling(input_text):\n",
    "    print('Correct spelling')"
   ]
  },
  {
   "cell_type": "code",
   "execution_count": 8,
   "id": "3ee902b9",
   "metadata": {},
   "outputs": [],
   "source": [
    "def translate(input_text):\n",
    "    print('Translate')"
   ]
  },
  {
   "cell_type": "code",
   "execution_count": 9,
   "id": "60e3646e",
   "metadata": {},
   "outputs": [],
   "source": [
    "def exit():\n",
    "    print('Exit')"
   ]
  },
  {
   "cell_type": "code",
   "execution_count": 10,
   "id": "a8790a47",
   "metadata": {},
   "outputs": [],
   "source": [
    "def call_function(choice, input_text, query=None):\n",
    "    switcher = {\n",
    "        1: convert_to_upper(input_text),\n",
    "        2: convert_to_lower(input_text),\n",
    "        3: search_in_text(input_text, query),\n",
    "        4: correct_spelling(input_text),\n",
    "        5: translate(input_text),\n",
    "        6: count_words(input_text),\n",
    "        7: plot_words(input_text),\n",
    "        8: exit()\n",
    "    }\n",
    "    return switcher.get(choice)"
   ]
  },
  {
   "cell_type": "code",
   "execution_count": 11,
   "id": "23a17370",
   "metadata": {},
   "outputs": [
    {
     "name": "stdout",
     "output_type": "stream",
     "text": [
      "Enter your text: hemant ghodke\n",
      "Enter your choice: \n",
      "                  1. Convert to UPPER CASE\n",
      "                  2. Convert to lower case\n",
      "                  3. Search in text\n",
      "                  4. Correct spelling\n",
      "                  5. Translate to other language\n",
      "                  6. Show words summary\n",
      "                  7. Plot words\n",
      "                  8: Exit1\n",
      "Convert to upper\n",
      "Convert to lower\n",
      "Search in text\n",
      "Correct spelling\n",
      "Translate\n",
      "Statistics of your data: \n",
      "----------------------------------------------------------------------------------------------------\n",
      "No. of words : 2\n",
      "No. of sentences : 1\n",
      "Language of text : <bound method BaseBlob.detect_language of TextBlob(\"hemant ghodke\")>\n"
     ]
    },
    {
     "data": {
      "image/png": "[encoded data removed]",
      "text/plain": [
       "<Figure size 1440x432 with 1 Axes>"
      ]
     },
     "metadata": {
      "needs_background": "light"
     },
     "output_type": "display_data"
    },
    {
     "name": "stdout",
     "output_type": "stream",
     "text": [
      "Exit\n"
     ]
    }
   ],
   "source": [
    "input_text = input('Enter your text: ')\n",
    "choice = int (input('''Enter your choice: \n",
    "                  1. Convert to UPPER CASE\n",
    "                  2. Convert to lower case\n",
    "                  3. Search in text\n",
    "                  4. Correct spelling\n",
    "                  5. Translate to other language\n",
    "                  6. Show words summary\n",
    "                  7. Plot words\n",
    "                  8: Exit : '''))\n",
    "call_function(choice, input_text)"
   ]
  },
  {
   "cell_type": "code",
   "execution_count": null,
   "id": "938ff082",
   "metadata": {},
   "outputs": [],
   "source": []
  }
 ],
 "metadata": {
  "kernelspec": {
   "display_name": "Python 3",
   "language": "python",
   "name": "python3"
  },
  "language_info": {
   "codemirror_mode": {
    "name": "ipython",
    "version": 3
   },
   "file_extension": ".py",
   "mimetype": "text/x-python",
   "name": "python",
   "nbconvert_exporter": "python",
   "pygments_lexer": "ipython3",
   "version": "3.8.8"
  }
 },
 "nbformat": 4,
 "nbformat_minor": 5
}
