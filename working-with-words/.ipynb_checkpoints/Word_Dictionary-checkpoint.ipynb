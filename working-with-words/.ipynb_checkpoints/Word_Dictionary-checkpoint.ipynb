{
 "cells": [
  {
   "cell_type": "code",
   "execution_count": 17,
   "id": "503738c6",
   "metadata": {},
   "outputs": [],
   "source": [
    "import nltk\n",
    "from nltk.corpus import stopwords\n",
    "from nltk.stem import WordNetLemmatizer\n",
    "import string\n",
    "from textblob import Word"
   ]
  },
  {
   "cell_type": "code",
   "execution_count": 23,
   "id": "f1bdf1d3",
   "metadata": {},
   "outputs": [],
   "source": [
    "word_lemmatizer = WordNetLemmatizer()\n",
    "def clean_text(input_text):\n",
    "    clean_data = []\n",
    "    for word in nltk.word_tokenize(input_text):\n",
    "        if word not in string.punctuation:\n",
    "            if word not in stopwords.words('english'):\n",
    "                clean_data.append(word_lemmatizer.lemmatize(word, pos='v'))\n",
    "    return \" \".join(clean_data)"
   ]
  },
  {
   "cell_type": "code",
   "execution_count": 36,
   "id": "c3e4d235",
   "metadata": {},
   "outputs": [
    {
     "name": "stdout",
     "output_type": "stream",
     "text": [
      "Enter the word: business\n",
      "Your word has following synonyms:\n",
      "----------------------------------------------------------------------------------------------------\n",
      "1. A Commercial Or Industrial Enterprise And The People Who Constitute It\n",
      "2. The Activity Of Providing Goods And Services Involving Financial And Commercial And Industrial Aspects\n",
      "3. The Principal Activity In Your Life That You Do To Earn Money\n",
      "4. A Rightful Concern Or Responsibility\n",
      "5. An Immediate Objective\n",
      "6. The Volume Of Commercial Activity\n",
      "7. Business Concerns Collectively\n",
      "8. Customers Collectively\n",
      "----------------------------------------------------------------------------------------------------\n"
     ]
    }
   ],
   "source": [
    "input_text = input('Enter the word: ')\n",
    "input_text = clean_text(input_text)\n",
    "print('Your word has following synonyms:')\n",
    "print('-'*100)\n",
    "synonyms = Word(input_text).definitions\n",
    "for i in range (0, len(synonyms)-1):\n",
    "    print(f'{i+1}. {synonyms[i].title()}')\n",
    "print('-'*100)"
   ]
  }
 ],
 "metadata": {
  "kernelspec": {
   "display_name": "Python 3",
   "language": "python",
   "name": "python3"
  },
  "language_info": {
   "codemirror_mode": {
    "name": "ipython",
    "version": 3
   },
   "file_extension": ".py",
   "mimetype": "text/x-python",
   "name": "python",
   "nbconvert_exporter": "python",
   "pygments_lexer": "ipython3",
   "version": "3.8.8"
  }
 },
 "nbformat": 4,
 "nbformat_minor": 5
}
