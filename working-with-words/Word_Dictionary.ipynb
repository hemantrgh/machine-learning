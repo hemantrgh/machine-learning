{
 "cells": [
  {
   "cell_type": "code",
   "execution_count": 1,
   "id": "5eee3e2c",
   "metadata": {},
   "outputs": [],
   "source": [
    "import nltk\n",
    "from nltk.corpus import stopwords\n",
    "from nltk.stem import WordNetLemmatizer\n",
    "import string\n",
    "from textblob import Word\n",
    "from flask import Flask"
   ]
  },
  {
   "cell_type": "code",
   "execution_count": 2,
   "id": "af414da8",
   "metadata": {},
   "outputs": [],
   "source": [
    "word_lemmatizer = WordNetLemmatizer()\n",
    "def clean_text(input_text):\n",
    "    clean_data = []\n",
    "    for word in nltk.word_tokenize(input_text):\n",
    "        if word not in string.punctuation:\n",
    "            if word not in stopwords.words('english'):\n",
    "                clean_data.append(word_lemmatizer.lemmatize(word, pos='v'))\n",
    "    return \" \".join(clean_data)"
   ]
  },
  {
   "cell_type": "code",
   "execution_count": 4,
   "id": "0d278070",
   "metadata": {},
   "outputs": [
    {
     "name": "stdout",
     "output_type": "stream",
     "text": [
      "Enter the word: sex\n",
      "Your word has following synonyms:\n",
      "----------------------------------------------------------------------------------------------------\n",
      "1. Activities Associated With Sexual Intercourse\n",
      "2. Either Of The Two Categories (Male Or Female) Into Which Most Organisms Are Divided\n",
      "3. All Of The Feelings Resulting From The Urge To Gratify Sexual Impulses\n",
      "4. The Properties That Distinguish Organisms On The Basis Of Their Reproductive Roles\n",
      "5. Stimulate Sexually\n",
      "----------------------------------------------------------------------------------------------------\n"
     ]
    }
   ],
   "source": [
    "input_text = input('Enter the word: ')\n",
    "input_text = clean_text(input_text)\n",
    "print('Your word has following synonyms:')\n",
    "print('-'*100)\n",
    "synonyms = Word(input_text).definitions\n",
    "for i in range (0, len(synonyms)-1):\n",
    "    print(f'{i+1}. {synonyms[i].title()}')\n",
    "print('-'*100)"
   ]
  },
  {
   "cell_type": "code",
   "execution_count": null,
   "id": "23fb0ac2",
   "metadata": {},
   "outputs": [],
   "source": []
  }
 ],
 "metadata": {
  "kernelspec": {
   "display_name": "Python 3",
   "language": "python",
   "name": "python3"
  },
  "language_info": {
   "codemirror_mode": {
    "name": "ipython",
    "version": 3
   },
   "file_extension": ".py",
   "mimetype": "text/x-python",
   "name": "python",
   "nbconvert_exporter": "python",
   "pygments_lexer": "ipython3",
   "version": "3.8.8"
  }
 },
 "nbformat": 4,
 "nbformat_minor": 5
}
