{
 "cells": [
  {
   "cell_type": "code",
   "execution_count": 17,
   "id": "5eee3e2c",
   "metadata": {},
   "outputs": [],
   "source": [
    "import nltk\n",
    "from nltk.corpus import stopwords\n",
    "from nltk.stem import WordNetLemmatizer\n",
    "import string\n",
    "from textblob import Word"
   ]
  },
  {
   "cell_type": "code",
   "execution_count": 23,
   "id": "af414da8",
   "metadata": {},
   "outputs": [],
   "source": [
    "word_lemmatizer = WordNetLemmatizer()\n",
    "def clean_text(input_text):\n",
    "    clean_data = []\n",
    "    for word in nltk.word_tokenize(input_text):\n",
    "        if word not in string.punctuation:\n",
    "            if word not in stopwords.words('english'):\n",
    "                clean_data.append(word_lemmatizer.lemmatize(word, pos='v'))\n",
    "    return \" \".join(clean_data)"
   ]
  },
  {
   "cell_type": "code",
   "execution_count": 37,
   "id": "0d278070",
   "metadata": {},
   "outputs": [
    {
     "name": "stdout",
     "output_type": "stream",
     "text": [
      "Enter the word: telephone\n",
      "Your word has following synonyms:\n",
      "----------------------------------------------------------------------------------------------------\n",
      "1. Electronic Equipment That Converts Sound Into Electrical Signals That Can Be Transmitted Over Distances And Then Converts Received Signals Back Into Sounds\n",
      "2. Transmitting Speech At A Distance\n",
      "----------------------------------------------------------------------------------------------------\n"
     ]
    }
   ],
   "source": [
    "input_text = input('Enter the word: ')\n",
    "input_text = clean_text(input_text)\n",
    "print('Your word has following synonyms:')\n",
    "print('-'*100)\n",
    "synonyms = Word(input_text).definitions\n",
    "for i in range (0, len(synonyms)-1):\n",
    "    print(f'{i+1}. {synonyms[i].title()}')\n",
    "print('-'*100)"
   ]
  }
 ],
 "metadata": {
  "kernelspec": {
   "display_name": "Python 3",
   "language": "python",
   "name": "python3"
  },
  "language_info": {
   "codemirror_mode": {
    "name": "ipython",
    "version": 3
   },
   "file_extension": ".py",
   "mimetype": "text/x-python",
   "name": "python",
   "nbconvert_exporter": "python",
   "pygments_lexer": "ipython3",
   "version": "3.8.8"
  }
 },
 "nbformat": 4,
 "nbformat_minor": 5
}
